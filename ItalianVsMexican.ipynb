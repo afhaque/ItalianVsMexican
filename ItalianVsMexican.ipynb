{
 "cells": [
  {
   "cell_type": "markdown",
   "metadata": {},
   "source": [
    "# Italian vs. Mexican Food\n",
    "---\n",
    "\n",
    "The below script provides an analytic approach for assessing the American preference of Italian vs. Mexican food. Using data from the US Census and the Yelp API, the script randomly selects 350 zip codes and aggregates the review of the top 10 Italian and Mexican restaurants in each area. Summary data is then reported using Python Pandas. "
   ]
  },
  {
   "cell_type": "code",
   "execution_count": 27,
   "metadata": {
    "collapsed": true
   },
   "outputs": [],
   "source": [
    "# Dependencies\n",
    "import pandas as pd\n",
    "import matplotlib.pyplot as plt\n",
    "import requests\n",
    "import time\n",
    "\n",
    "# Yelp API Key\n",
    "ykey_id = \"Bqhtws5XxV3xtS8GitivdQ\"\n",
    "ykey_secret = \"qPJJOG1TlG2jDnpBzn82ZjVz5D1KGt6ueMaDRg6nxca1u7NG5VVeGCZdovKI2Xtv\"\n",
    "ykey_access_token = \"7RhzuoYA_92L1Tgpj1-bkx9RBfPJYfDTjxWYHR2Nf_wMDnkcQ6ONdQNLejkUu0tr1KEbqWeWmurIBmZXVlozloaPfHa-NcN1kQwoI6dKVyDsbigNCUs-gG77MYVpWXYx\""
   ]
  },
  {
   "cell_type": "markdown",
   "metadata": {},
   "source": [
    "## Zip Code Sampling"
   ]
  },
  {
   "cell_type": "code",
   "execution_count": 28,
   "metadata": {
    "collapsed": false,
    "scrolled": true
   },
   "outputs": [
    {
     "data": {
      "text/html": [
       "<div>\n",
       "<table border=\"1\" class=\"dataframe\">\n",
       "  <thead>\n",
       "    <tr style=\"text-align: right;\">\n",
       "      <th></th>\n",
       "      <th>Zipcode</th>\n",
       "      <th>Address</th>\n",
       "      <th>Population</th>\n",
       "      <th>Median Age</th>\n",
       "      <th>Household Income</th>\n",
       "      <th>Per Capita Income</th>\n",
       "    </tr>\n",
       "  </thead>\n",
       "  <tbody>\n",
       "    <tr>\n",
       "      <th>0</th>\n",
       "      <td>15081</td>\n",
       "      <td>South Heights, PA 15081, USA</td>\n",
       "      <td>342</td>\n",
       "      <td>50.2</td>\n",
       "      <td>31500.0</td>\n",
       "      <td>22177</td>\n",
       "    </tr>\n",
       "    <tr>\n",
       "      <th>1</th>\n",
       "      <td>20615</td>\n",
       "      <td>Broomes Island, MD 20615, USA</td>\n",
       "      <td>424</td>\n",
       "      <td>43.4</td>\n",
       "      <td>114375.0</td>\n",
       "      <td>43920</td>\n",
       "    </tr>\n",
       "    <tr>\n",
       "      <th>2</th>\n",
       "      <td>50201</td>\n",
       "      <td>Nevada, IA 50201, USA</td>\n",
       "      <td>8139</td>\n",
       "      <td>40.4</td>\n",
       "      <td>56619.0</td>\n",
       "      <td>28908</td>\n",
       "    </tr>\n",
       "    <tr>\n",
       "      <th>3</th>\n",
       "      <td>84020</td>\n",
       "      <td>Draper, UT 84020, USA</td>\n",
       "      <td>42751</td>\n",
       "      <td>30.4</td>\n",
       "      <td>89922.0</td>\n",
       "      <td>33164</td>\n",
       "    </tr>\n",
       "    <tr>\n",
       "      <th>4</th>\n",
       "      <td>39097</td>\n",
       "      <td>Louise, MS 39097, USA</td>\n",
       "      <td>495</td>\n",
       "      <td>58.0</td>\n",
       "      <td>26838.0</td>\n",
       "      <td>17399</td>\n",
       "    </tr>\n",
       "  </tbody>\n",
       "</table>\n",
       "</div>"
      ],
      "text/plain": [
       "   Zipcode                        Address  Population  Median Age  \\\n",
       "0    15081   South Heights, PA 15081, USA         342        50.2   \n",
       "1    20615  Broomes Island, MD 20615, USA         424        43.4   \n",
       "2    50201          Nevada, IA 50201, USA        8139        40.4   \n",
       "3    84020          Draper, UT 84020, USA       42751        30.4   \n",
       "4    39097          Louise, MS 39097, USA         495        58.0   \n",
       "\n",
       "   Household Income  Per Capita Income  \n",
       "0           31500.0              22177  \n",
       "1          114375.0              43920  \n",
       "2           56619.0              28908  \n",
       "3           89922.0              33164  \n",
       "4           26838.0              17399  "
      ]
     },
     "execution_count": 28,
     "metadata": {},
     "output_type": "execute_result"
    }
   ],
   "source": [
    "# Import the census data into a Pandas DataFrame\n",
    "census_pd = pd.read_csv(\"Census_Data.csv\")\n",
    "\n",
    "# Preview the data\n",
    "census_pd.head()"
   ]
  },
  {
   "cell_type": "code",
   "execution_count": 29,
   "metadata": {
    "collapsed": false
   },
   "outputs": [
    {
     "data": {
      "text/html": [
       "<div>\n",
       "<table border=\"1\" class=\"dataframe\">\n",
       "  <thead>\n",
       "    <tr style=\"text-align: right;\">\n",
       "      <th></th>\n",
       "      <th>Zipcode</th>\n",
       "      <th>Address</th>\n",
       "      <th>Population</th>\n",
       "      <th>Median Age</th>\n",
       "      <th>Household Income</th>\n",
       "      <th>Per Capita Income</th>\n",
       "    </tr>\n",
       "  </thead>\n",
       "  <tbody>\n",
       "    <tr>\n",
       "      <th>493</th>\n",
       "      <td>54733</td>\n",
       "      <td>Dallas, WI 54733, USA</td>\n",
       "      <td>1305</td>\n",
       "      <td>41.3</td>\n",
       "      <td>50809.0</td>\n",
       "      <td>23292</td>\n",
       "    </tr>\n",
       "    <tr>\n",
       "      <th>34</th>\n",
       "      <td>35956</td>\n",
       "      <td>Boaz, AL 35956, USA</td>\n",
       "      <td>8716</td>\n",
       "      <td>40.0</td>\n",
       "      <td>46844.0</td>\n",
       "      <td>19615</td>\n",
       "    </tr>\n",
       "    <tr>\n",
       "      <th>591</th>\n",
       "      <td>6824</td>\n",
       "      <td>Fairfield, CT 06824, USA</td>\n",
       "      <td>34864</td>\n",
       "      <td>38.5</td>\n",
       "      <td>128558.0</td>\n",
       "      <td>60182</td>\n",
       "    </tr>\n",
       "    <tr>\n",
       "      <th>440</th>\n",
       "      <td>21061</td>\n",
       "      <td>Glen Burnie, MD 21061, USA</td>\n",
       "      <td>53491</td>\n",
       "      <td>36.0</td>\n",
       "      <td>60430.0</td>\n",
       "      <td>29841</td>\n",
       "    </tr>\n",
       "    <tr>\n",
       "      <th>547</th>\n",
       "      <td>68005</td>\n",
       "      <td>Bellevue, NE 68005, USA</td>\n",
       "      <td>24163</td>\n",
       "      <td>34.2</td>\n",
       "      <td>53794.0</td>\n",
       "      <td>25101</td>\n",
       "    </tr>\n",
       "  </tbody>\n",
       "</table>\n",
       "</div>"
      ],
      "text/plain": [
       "     Zipcode                     Address  Population  Median Age  \\\n",
       "493    54733       Dallas, WI 54733, USA        1305        41.3   \n",
       "34     35956         Boaz, AL 35956, USA        8716        40.0   \n",
       "591     6824    Fairfield, CT 06824, USA       34864        38.5   \n",
       "440    21061  Glen Burnie, MD 21061, USA       53491        36.0   \n",
       "547    68005     Bellevue, NE 68005, USA       24163        34.2   \n",
       "\n",
       "     Household Income  Per Capita Income  \n",
       "493           50809.0              23292  \n",
       "34            46844.0              19615  \n",
       "591          128558.0              60182  \n",
       "440           60430.0              29841  \n",
       "547           53794.0              25101  "
      ]
     },
     "execution_count": 29,
     "metadata": {},
     "output_type": "execute_result"
    }
   ],
   "source": [
    "# Randomly select 500 zip code locations that have at least 1000 residents\n",
    "selected_zips = census_pd.sample(n=500)\n",
    "selected_zips = selected_zips[selected_zips[\"Population\"].astype(int) > 1000]\n",
    "\n",
    "# Visualize\n",
    "selected_zips.head()"
   ]
  },
  {
   "cell_type": "code",
   "execution_count": 30,
   "metadata": {
    "collapsed": false
   },
   "outputs": [
    {
     "data": {
      "text/plain": [
       "Zipcode              374\n",
       "Address              374\n",
       "Population           374\n",
       "Median Age           374\n",
       "Household Income     373\n",
       "Per Capita Income    374\n",
       "dtype: int64"
      ]
     },
     "execution_count": 30,
     "metadata": {},
     "output_type": "execute_result"
    }
   ],
   "source": [
    "# Show the total zip codes selected\n",
    "selected_zips.count()"
   ]
  },
  {
   "cell_type": "code",
   "execution_count": 31,
   "metadata": {
    "collapsed": false
   },
   "outputs": [
    {
     "data": {
      "text/plain": [
       "13528.088235294117"
      ]
     },
     "execution_count": 31,
     "metadata": {},
     "output_type": "execute_result"
    }
   ],
   "source": [
    "# Show the average population\n",
    "selected_zips[\"Population\"].mean()"
   ]
  },
  {
   "cell_type": "code",
   "execution_count": 32,
   "metadata": {
    "collapsed": false
   },
   "outputs": [
    {
     "data": {
      "text/plain": [
       "57121.67292225201"
      ]
     },
     "execution_count": 32,
     "metadata": {},
     "output_type": "execute_result"
    }
   ],
   "source": [
    "# Show the average population\n",
    "selected_zips[\"Household Income\"].mean()"
   ]
  },
  {
   "cell_type": "code",
   "execution_count": 36,
   "metadata": {
    "collapsed": false
   },
   "outputs": [
    {
     "data": {
      "text/plain": [
       "39.93850267379681"
      ]
     },
     "execution_count": 36,
     "metadata": {},
     "output_type": "execute_result"
    }
   ],
   "source": [
    "# Show the average population\n",
    "selected_zips[\"Median Age\"].mean()"
   ]
  },
  {
   "cell_type": "markdown",
   "metadata": {},
   "source": [
    "## Yelp Data Retrieval"
   ]
  },
  {
   "cell_type": "code",
   "execution_count": null,
   "metadata": {
    "collapsed": true
   },
   "outputs": [],
   "source": []
  }
 ],
 "metadata": {
  "anaconda-cloud": {},
  "kernelspec": {
   "display_name": "Python [conda env:PythonData]",
   "language": "python",
   "name": "conda-env-PythonData-py"
  },
  "language_info": {
   "codemirror_mode": {
    "name": "ipython",
    "version": 3
   },
   "file_extension": ".py",
   "mimetype": "text/x-python",
   "name": "python",
   "nbconvert_exporter": "python",
   "pygments_lexer": "ipython3",
   "version": "3.5.2"
  }
 },
 "nbformat": 4,
 "nbformat_minor": 1
}
